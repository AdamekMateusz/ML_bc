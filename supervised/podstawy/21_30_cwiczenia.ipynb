{
  "nbformat": 4,
  "nbformat_minor": 0,
  "metadata": {
    "colab": {
      "name": "21-30_cwiczenia.ipynb",
      "provenance": [],
      "collapsed_sections": [],
      "include_colab_link": true
    },
    "kernelspec": {
      "name": "python3",
      "display_name": "Python 3"
    }
  },
  "cells": [
    {
      "cell_type": "markdown",
      "metadata": {
        "id": "view-in-github",
        "colab_type": "text"
      },
      "source": [
        "<a href=\"https://colab.research.google.com/github/AdamekMateusz/ML_bc/blob/main/supervised/podstawy/21_30_cwiczenia.ipynb\" target=\"_parent\"><img src=\"https://colab.research.google.com/assets/colab-badge.svg\" alt=\"Open In Colab\"/></a>"
      ]
    },
    {
      "cell_type": "markdown",
      "metadata": {
        "id": "bRPKznU7KNLk"
      },
      "source": [
        "## 21-30 Ćwiczenia"
      ]
    },
    {
      "cell_type": "code",
      "metadata": {
        "id": "qZO7y8jG-zfg"
      },
      "source": [
        "import numpy as np"
      ],
      "execution_count": 75,
      "outputs": []
    },
    {
      "cell_type": "markdown",
      "metadata": {
        "id": "kWMCbRDvKPFK"
      },
      "source": [
        "### Ćwiczenie 21\n",
        "Wygeneruj następującą tablicę *numpy*.\n",
        "```\n",
        "array([[ 0,  1,  2,  3],\n",
        "       [ 4,  5,  6,  7],\n",
        "       [ 8,  9, 10, 11]])\n",
        "```\n",
        "Następnie zapisz tablicę do pliku binarnego o nazwie `array.npy`, załaduj ten plik z powrotem do innej zmiennej i wydrukuj jej zawartość do konsoli.\n",
        "\n",
        "**Wskazówka:** Użyj funkcji *np.save()* oraz *np.load()*."
      ]
    },
    {
      "cell_type": "code",
      "metadata": {
        "id": "IjUPte1aKLUi",
        "colab": {
          "base_uri": "https://localhost:8080/"
        },
        "outputId": "05435f39-b2b4-4277-b25a-6906e08b68cd"
      },
      "source": [
        "A=np.arange(12).reshape(3,4)\n",
        "with open('array.npy', 'wb') as f:\n",
        "    np.save(f, A)\n",
        "\n",
        "with open('array.npy', 'rb') as f:\n",
        "  a=np.load(f)\n",
        "\n",
        "print(a)\n",
        "\n"
      ],
      "execution_count": 76,
      "outputs": [
        {
          "output_type": "stream",
          "text": [
            "[[ 0  1  2  3]\n",
            " [ 4  5  6  7]\n",
            " [ 8  9 10 11]]\n"
          ],
          "name": "stdout"
        }
      ]
    },
    {
      "cell_type": "markdown",
      "metadata": {
        "id": "pcpkkFQ4KRLN"
      },
      "source": [
        "### Ćwiczenie 22\n",
        "Wygeneruj następującą tablicę *numpy*:\n",
        "```\n",
        "array([[ 0,  1,  2,  3],\n",
        "       [ 4,  5,  6,  7],\n",
        "       [ 8,  9, 10, 11]])\n",
        "```\n",
        "Zapisz tablicę do pliku tekstowego o nazwie `array.txt` z dwoma miejscami po przecinku, załaduj plik z powrotem do innej zmiennej i wydrukuj jej zawartość do konsoli.\n",
        "\n",
        "**Wskazówka:** Użyj funkcji *np.savetxt()* oraz *np.loadtxt()*."
      ]
    },
    {
      "cell_type": "code",
      "metadata": {
        "id": "N_7kUcZaKRa7",
        "colab": {
          "base_uri": "https://localhost:8080/"
        },
        "outputId": "713efc3e-479c-4da9-e638-71daed9a4149"
      },
      "source": [
        "B=np.linspace(0,11,12).reshape(3,4)\n",
        "c=np.savetxt(\"array.txt\",B,fmt='%10.2f')\n",
        "a=np.loadtxt(\"array.txt\")\n",
        "print(a)"
      ],
      "execution_count": 77,
      "outputs": [
        {
          "output_type": "stream",
          "text": [
            "[[ 0.  1.  2.  3.]\n",
            " [ 4.  5.  6.  7.]\n",
            " [ 8.  9. 10. 11.]]\n"
          ],
          "name": "stdout"
        }
      ]
    },
    {
      "cell_type": "markdown",
      "metadata": {
        "id": "49bvz67dKRvE"
      },
      "source": [
        "### Ćwiczenie 23\n",
        "Wygeneruj i przekształć następującą tablicę *numpy* na listę:\n",
        "```\n",
        "array([[ 0,  1,  2,  3],\n",
        "       [ 4,  5,  6,  7],\n",
        "       [ 8,  9, 10, 11]])\n",
        "```\n",
        "Wydrukuj wynik do konsoli.\n",
        "\n",
        "**Wskazówka:** Użyj metody *np.array.tolist()*.\n",
        "\n",
        "**Oczekiwany wynik:**\n",
        "```\n",
        "[[0, 1, 2, 3], [4, 5, 6, 7], [8, 9, 10, 11]]\n",
        "```"
      ]
    },
    {
      "cell_type": "code",
      "metadata": {
        "id": "EO3wjazGKR-E",
        "colab": {
          "base_uri": "https://localhost:8080/"
        },
        "outputId": "6f073c7f-8eb1-4491-d967-94e70085d4ff"
      },
      "source": [
        "A=np.linspace(0,11,12).reshape((3,4)).astype(int)\n",
        "list1=A.tolist()\n",
        "print(list1)"
      ],
      "execution_count": 78,
      "outputs": [
        {
          "output_type": "stream",
          "text": [
            "[[0, 1, 2, 3], [4, 5, 6, 7], [8, 9, 10, 11]]\n"
          ],
          "name": "stdout"
        }
      ]
    },
    {
      "cell_type": "markdown",
      "metadata": {
        "id": "DW8FaF5DKSTJ"
      },
      "source": [
        "### Ćwiczenie 24\n",
        "Podana jest następująca tablica *numpy*:\n",
        "```\n",
        "array([[ 0,  1,  2,  3],\n",
        "       [ 4,  5,  6,  7],\n",
        "       [ 8,  9, 10, 11]])\n",
        "```\n",
        "Używając operatora wycinania przekształć tablicę w następujący sposób:\n",
        "\n",
        "zamień wiersze (pierwszy z ostatnim)\n",
        "```\n",
        "array([[ 8,  9, 10, 11],\n",
        "       [ 4,  5,  6,  7],\n",
        "       [ 0,  1,  2,  3]])\n",
        "```\n",
        "Wydrukuj wynik do konsoli.\n",
        "\n",
        "**Oczekiwany wynik:**\n",
        "```\n",
        "[[ 8  9 10 11]\n",
        " [ 4  5  6  7]\n",
        " [ 0  1  2  3]]\n",
        "```"
      ]
    },
    {
      "cell_type": "code",
      "metadata": {
        "id": "vNsCyqBHKSf9",
        "colab": {
          "base_uri": "https://localhost:8080/"
        },
        "outputId": "c6820c92-d002-4d3e-e08b-a2aa5a1363b3"
      },
      "source": [
        "A=np.linspace(0,11,12).reshape((3,4))\n",
        "A[[2, 0],:] = A[[0, 2],:] \n",
        "\n",
        "print(A)"
      ],
      "execution_count": 79,
      "outputs": [
        {
          "output_type": "stream",
          "text": [
            "[[ 8.  9. 10. 11.]\n",
            " [ 4.  5.  6.  7.]\n",
            " [ 0.  1.  2.  3.]]\n"
          ],
          "name": "stdout"
        }
      ]
    },
    {
      "cell_type": "markdown",
      "metadata": {
        "id": "B7PGgO7JKSyz"
      },
      "source": [
        "### Ćwiczenie 25\n",
        "Następującą tablicę numpy:\n",
        "```\n",
        "array([[1., 1., 1., 1.],\n",
        "       [1., 1., 1., 1.],\n",
        "       [1., 1., 1., 1.],\n",
        "       [1., 1., 1., 1.]])\n",
        "```\n",
        "przekształć w tablicę poniżej:\n",
        "```\n",
        "array([[0., 0., 0., 0., 0., 0.],\n",
        "       [0., 1., 1., 1., 1., 0.],\n",
        "       [0., 1., 1., 1., 1., 0.],\n",
        "       [0., 1., 1., 1., 1., 0.],\n",
        "       [0., 1., 1., 1., 1., 0.],\n",
        "       [0., 0., 0., 0., 0., 0.]])\n",
        "```\n",
        "Wydrukuj wynik do konsoli.\n",
        "\n",
        "**Wskazówka:** Użyj funkcji *np.pad()*.\n",
        "\n",
        "**Oczekiwany wynik:**\n",
        "```\n",
        "[[0. 0. 0. 0. 0. 0.]\n",
        " [0. 1. 1. 1. 1. 0.]\n",
        " [0. 1. 1. 1. 1. 0.]\n",
        " [0. 1. 1. 1. 1. 0.]\n",
        " [0. 1. 1. 1. 1. 0.]\n",
        " [0. 0. 0. 0. 0. 0.]]\n",
        "```"
      ]
    },
    {
      "cell_type": "code",
      "metadata": {
        "id": "OyqH0rVRKS-U",
        "colab": {
          "base_uri": "https://localhost:8080/"
        },
        "outputId": "a85e95c2-1d2e-4cda-b3cc-1cba204d2859"
      },
      "source": [
        "A=np.ones(shape=(4,4))\n",
        "A=np.pad(A,(1,1),'constant',constant_values=(0,0))\n",
        "print(A)"
      ],
      "execution_count": 80,
      "outputs": [
        {
          "output_type": "stream",
          "text": [
            "[[0. 0. 0. 0. 0. 0.]\n",
            " [0. 1. 1. 1. 1. 0.]\n",
            " [0. 1. 1. 1. 1. 0.]\n",
            " [0. 1. 1. 1. 1. 0.]\n",
            " [0. 1. 1. 1. 1. 0.]\n",
            " [0. 0. 0. 0. 0. 0.]]\n"
          ],
          "name": "stdout"
        }
      ]
    },
    {
      "cell_type": "markdown",
      "metadata": {
        "id": "XDq5Lz6BKTTo"
      },
      "source": [
        "### Ćwiczenie 26\n",
        "Następującą tablicę *numpy*:\n",
        "```\n",
        "array([[0, 0, 0, 0, 0, 0],\n",
        "       [0, 0, 0, 0, 0, 0],\n",
        "       [0, 0, 0, 0, 0, 0],\n",
        "       [0, 0, 0, 0, 0, 0],\n",
        "       [0, 0, 0, 0, 0, 0],\n",
        "       [0, 0, 0, 0, 0, 0]])\n",
        "```\n",
        "przekształć w tablicę poniżej:\n",
        "```\n",
        "array([[10,  0, 10,  0, 10,  0],\n",
        "       [ 5,  0,  5,  0,  5,  0],\n",
        "       [10,  0, 10,  0, 10,  0],\n",
        "       [ 5,  0,  5,  0,  5,  0],\n",
        "       [10,  0, 10,  0, 10,  0],\n",
        "       [ 5,  0,  5,  0,  5,  0]])\n",
        "```\n",
        "Wydrukuj wynik do konsoli.\n",
        "\n",
        "**Wskazówka:** Użyj operatora wycinania i przypisz odpowiednie wartości.\n",
        "\n",
        "**Oczekiwany wynik:**\n",
        "```\n",
        "[[10  0 10  0 10  0]\n",
        " [ 5  0  5  0  5  0]\n",
        " [10  0 10  0 10  0]\n",
        " [ 5  0  5  0  5  0]\n",
        " [10  0 10  0 10  0]\n",
        " [ 5  0  5  0  5  0]]\n",
        "```"
      ]
    },
    {
      "cell_type": "code",
      "metadata": {
        "id": "pa9KzQlSKTh9",
        "colab": {
          "base_uri": "https://localhost:8080/"
        },
        "outputId": "e23ad875-829a-4817-90d3-3587d83d0db8"
      },
      "source": [
        "#A=np.linspace(0,35,36).reshape((6,6))\n",
        "A=np.zeros((6,6))\n",
        "#print(A[:,0]) #tak wydrukuje pierwsza kolumne\n",
        "for x in range(0,6,2):\n",
        "  A[:,x]=np.array([10,5,10,5,10,5])\n",
        " \n",
        "print(A) "
      ],
      "execution_count": 81,
      "outputs": [
        {
          "output_type": "stream",
          "text": [
            "[[10.  0. 10.  0. 10.  0.]\n",
            " [ 5.  0.  5.  0.  5.  0.]\n",
            " [10.  0. 10.  0. 10.  0.]\n",
            " [ 5.  0.  5.  0.  5.  0.]\n",
            " [10.  0. 10.  0. 10.  0.]\n",
            " [ 5.  0.  5.  0.  5.  0.]]\n"
          ],
          "name": "stdout"
        }
      ]
    },
    {
      "cell_type": "markdown",
      "metadata": {
        "id": "Szkw9dQjKT-c"
      },
      "source": [
        "### Ćwiczenie 27\n",
        "Połącz tablice A i B w jedną tak jak pokazano poniżej. Wydrukuj wynik do konsoli.\n",
        "```\n",
        "A = np.arange(12).reshape(-1, 4)\n",
        "B = np.array([[4, 3, 7, 2],\n",
        "              [0, 5, 2, 6]])\n",
        "```\n",
        "**Wskazówka:** Użyj funkcji *np.append()*.\n",
        "\n",
        "**Oczekiwany wynik:**\n",
        "```\n",
        "[[ 0  1  2  3]\n",
        " [ 4  5  6  7]\n",
        " [ 8  9 10 11]\n",
        " [ 4  3  7  2]\n",
        " [ 0  5  2  6]]\n",
        " ```"
      ]
    },
    {
      "cell_type": "code",
      "metadata": {
        "id": "jzcFeGdBKUKK",
        "colab": {
          "base_uri": "https://localhost:8080/"
        },
        "outputId": "e712b0fc-3517-48de-93de-a1e754f48daf"
      },
      "source": [
        "A = np.arange(12).reshape(-1, 4)\n",
        "B = np.array([[4, 3, 7, 2],\n",
        "              [0, 5, 2, 6]])\n",
        "\n",
        "np.append(A,B,axis=0)"
      ],
      "execution_count": 85,
      "outputs": [
        {
          "output_type": "execute_result",
          "data": {
            "text/plain": [
              "array([[ 0,  1,  2,  3],\n",
              "       [ 4,  5,  6,  7],\n",
              "       [ 8,  9, 10, 11],\n",
              "       [ 4,  3,  7,  2],\n",
              "       [ 0,  5,  2,  6]])"
            ]
          },
          "metadata": {
            "tags": []
          },
          "execution_count": 85
        }
      ]
    },
    {
      "cell_type": "markdown",
      "metadata": {
        "id": "d38E1o1YKUch"
      },
      "source": [
        "### Ćwiczenie 28\n",
        "Z podanych tablic A i B poniżej, wyodrębnij wspólne elementy (przecięcie) tablic. Wydrukuj wynik do konsoli.\n",
        "```\n",
        "A = np.arange(8).reshape(-1, 4)\n",
        "B = np.array([[9, 10, 11, 3],\n",
        "              [2, 8, 0, 9]])      \n",
        "```\n",
        "**Wskazówka:** Użyj funkcji *np.intersect1d()*.\n",
        "\n",
        "**Oczekiwany wynik:**\n",
        "```\n",
        "[0 2 3]\n",
        "```"
      ]
    },
    {
      "cell_type": "code",
      "metadata": {
        "id": "Bv0yvWunKUnv",
        "colab": {
          "base_uri": "https://localhost:8080/"
        },
        "outputId": "94ece717-fd2a-481a-9e60-72e2c51a2d07"
      },
      "source": [
        "A = np.arange(8).reshape(-1, 4)\n",
        "B = np.array([[9, 10, 11, 3],\n",
        "              [2, 8, 0, 9]])   \n",
        "\n",
        "np.intersect1d(A,B)"
      ],
      "execution_count": 92,
      "outputs": [
        {
          "output_type": "execute_result",
          "data": {
            "text/plain": [
              "array([0, 2, 3])"
            ]
          },
          "metadata": {
            "tags": []
          },
          "execution_count": 92
        }
      ]
    },
    {
      "cell_type": "markdown",
      "metadata": {
        "id": "c7Lbal8jKU8D"
      },
      "source": [
        "### Ćwiczenie 29\n",
        "Podano następującą tablicę *numpy* A. Znajdź unikalne wartości tej tablicy. Wydrukuj wynik do konsoli.\n",
        "```\n",
        "A = np.array([[5, 1, 2, 1, 2],\n",
        "              [9, 1, 9, 7, 5],\n",
        "              [4, 1, 5, 7, 9]])\n",
        "```\n",
        "**Wskazówka:** Użyj funkcji *np.unique()*.\n",
        "\n",
        "**Oczekiwany wynik:**\n",
        "```\n",
        "[1 2 4 5 7 9]\n",
        "```"
      ]
    },
    {
      "cell_type": "code",
      "metadata": {
        "id": "habw9prqKVIM",
        "colab": {
          "base_uri": "https://localhost:8080/"
        },
        "outputId": "9030f924-044f-48cd-f87a-d19801ef971d"
      },
      "source": [
        "A = np.array([[5, 1, 2, 1, 2],\n",
        "              [9, 1, 9, 7, 5],\n",
        "              [4, 1, 5, 7, 9]])\n",
        "\n",
        "np.unique(A)"
      ],
      "execution_count": 93,
      "outputs": [
        {
          "output_type": "execute_result",
          "data": {
            "text/plain": [
              "array([1, 2, 4, 5, 7, 9])"
            ]
          },
          "metadata": {
            "tags": []
          },
          "execution_count": 93
        }
      ]
    },
    {
      "cell_type": "markdown",
      "metadata": {
        "id": "vJGU-IBMKVjr"
      },
      "source": [
        "### Ćwiczenie 30\n",
        "Podana jest poniższa tablica:\n",
        "```\n",
        "A = np.array([[0.4, 0.3, 0.3],\n",
        "              [0.1, 0.1, 0.8],\n",
        "              [0.2, 0.5, 0.3]])\n",
        "```\n",
        "Zwróć indeksy z maksymalnymi wartościami dla danego wiersza. Wydrukuj wynik do konsoli.\n",
        "\n",
        "**Wskazówka:** Użyj funkcji *np.argmax()*.\n",
        "\n",
        "**Oczekiwany wynik:**\n",
        "```\n",
        "[0 2 1]\n",
        "```"
      ]
    },
    {
      "cell_type": "code",
      "metadata": {
        "id": "ZazQftwqKWJC",
        "colab": {
          "base_uri": "https://localhost:8080/"
        },
        "outputId": "a3904cfb-c64a-4521-cada-f2949c99159e"
      },
      "source": [
        "A = np.array([[0.4, 0.3, 0.3],\n",
        "              [0.1, 0.1, 0.8],\n",
        "              [0.2, 0.5, 0.3]])\n",
        "\n",
        "#A[:,0] tak zwraca caly wiersz\n",
        "for x in range(np.shape(A)[0]):\n",
        "  print(np.argmax(A[:,x]))\n",
        "\n",
        "print(np.argmax(A, axis=1))"
      ],
      "execution_count": 99,
      "outputs": [
        {
          "output_type": "stream",
          "text": [
            "0\n",
            "2\n",
            "1\n",
            "[0 2 1]\n"
          ],
          "name": "stdout"
        }
      ]
    },
    {
      "cell_type": "code",
      "metadata": {
        "id": "gWCe0InEU7EC"
      },
      "source": [
        ""
      ],
      "execution_count": null,
      "outputs": []
    }
  ]
}
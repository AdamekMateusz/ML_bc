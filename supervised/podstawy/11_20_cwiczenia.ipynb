{
  "nbformat": 4,
  "nbformat_minor": 0,
  "metadata": {
    "colab": {
      "name": "11-20_cwiczenia.ipynb",
      "provenance": [],
      "collapsed_sections": [],
      "include_colab_link": true
    },
    "kernelspec": {
      "name": "python3",
      "display_name": "Python 3"
    }
  },
  "cells": [
    {
      "cell_type": "markdown",
      "metadata": {
        "id": "view-in-github",
        "colab_type": "text"
      },
      "source": [
        "<a href=\"https://colab.research.google.com/github/AdamekMateusz/ML_bc/blob/main/supervised/podstawy/11_20_cwiczenia.ipynb\" target=\"_parent\"><img src=\"https://colab.research.google.com/assets/colab-badge.svg\" alt=\"Open In Colab\"/></a>"
      ]
    },
    {
      "cell_type": "code",
      "metadata": {
        "id": "O7sjJZCIv-__"
      },
      "source": [
        "import numpy as np\n"
      ],
      "execution_count": 3,
      "outputs": []
    },
    {
      "cell_type": "markdown",
      "metadata": {
        "id": "dURzBBGzDK8a"
      },
      "source": [
        "## 11-20 Ćwiczenia"
      ]
    },
    {
      "cell_type": "markdown",
      "metadata": {
        "id": "cZukK_7NDMdr"
      },
      "source": [
        "### Ćwiczenie 11\n",
        "Zbuduj jednowymiarową tablicę *numpy* składającą się z wszystkich liczb dwucyfrowych. Wydrukuj wynik do konsoli.\n",
        "\n",
        "**Wskazówka:** Użyj funkcji *np.arange()*.\n",
        "\n",
        "**Oczekiwany wynik:**\n",
        "```\n",
        "[10 11 12 13 14 15 16 17 18 19 20 21 22 23 24 25 26 27 28 29 30 31 32 33\n",
        " 34 35 36 37 38 39 40 41 42 43 44 45 46 47 48 49 50 51 52 53 54 55 56 57\n",
        " 58 59 60 61 62 63 64 65 66 67 68 69 70 71 72 73 74 75 76 77 78 79 80 81\n",
        " 82 83 84 85 86 87 88 89 90 91 92 93 94 95 96 97 98 99]\n",
        " ```"
      ]
    },
    {
      "cell_type": "code",
      "metadata": {
        "id": "A4C4yr9rDIcv",
        "colab": {
          "base_uri": "https://localhost:8080/"
        },
        "outputId": "830bf7c3-1184-4b64-c428-f4608ce70983"
      },
      "source": [
        "np.arange(10,100)"
      ],
      "execution_count": 4,
      "outputs": [
        {
          "output_type": "execute_result",
          "data": {
            "text/plain": [
              "array([10, 11, 12, 13, 14, 15, 16, 17, 18, 19, 20, 21, 22, 23, 24, 25, 26,\n",
              "       27, 28, 29, 30, 31, 32, 33, 34, 35, 36, 37, 38, 39, 40, 41, 42, 43,\n",
              "       44, 45, 46, 47, 48, 49, 50, 51, 52, 53, 54, 55, 56, 57, 58, 59, 60,\n",
              "       61, 62, 63, 64, 65, 66, 67, 68, 69, 70, 71, 72, 73, 74, 75, 76, 77,\n",
              "       78, 79, 80, 81, 82, 83, 84, 85, 86, 87, 88, 89, 90, 91, 92, 93, 94,\n",
              "       95, 96, 97, 98, 99])"
            ]
          },
          "metadata": {
            "tags": []
          },
          "execution_count": 4
        }
      ]
    },
    {
      "cell_type": "markdown",
      "metadata": {
        "id": "hc-tXlCiDODZ"
      },
      "source": [
        "### Ćwiczenie 12\n",
        "Zbuduj tablicę *numpy* określoną poniżej:\n",
        "```\n",
        "[[10 11 12 13 14 15 16 17 18 19]\n",
        " [20 21 22 23 24 25 26 27 28 29]\n",
        " [30 31 32 33 34 35 36 37 38 39]\n",
        " [40 41 42 43 44 45 46 47 48 49]\n",
        " [50 51 52 53 54 55 56 57 58 59]\n",
        " [60 61 62 63 64 65 66 67 68 69]\n",
        " [70 71 72 73 74 75 76 77 78 79]\n",
        " [80 81 82 83 84 85 86 87 88 89]\n",
        " [90 91 92 93 94 95 96 97 98 99]]\n",
        "```\n",
        "Zwróć uwagę, że kształt tablicy to (9, 10). Wydrukuj wynik do konsoli.\n",
        "\n",
        "**Wskazówka:** Użyj funkcji *np.arange()* i metody *np.ndarray.reshape()*."
      ]
    },
    {
      "cell_type": "code",
      "metadata": {
        "id": "GHEB5_97DOV_",
        "colab": {
          "base_uri": "https://localhost:8080/"
        },
        "outputId": "55be2614-4aa8-4927-b46f-c52b6badea29"
      },
      "source": [
        "A=np.arange(10,100).reshape((9,10))\n",
        "print(A)"
      ],
      "execution_count": 5,
      "outputs": [
        {
          "output_type": "stream",
          "text": [
            "[[10 11 12 13 14 15 16 17 18 19]\n",
            " [20 21 22 23 24 25 26 27 28 29]\n",
            " [30 31 32 33 34 35 36 37 38 39]\n",
            " [40 41 42 43 44 45 46 47 48 49]\n",
            " [50 51 52 53 54 55 56 57 58 59]\n",
            " [60 61 62 63 64 65 66 67 68 69]\n",
            " [70 71 72 73 74 75 76 77 78 79]\n",
            " [80 81 82 83 84 85 86 87 88 89]\n",
            " [90 91 92 93 94 95 96 97 98 99]]\n"
          ],
          "name": "stdout"
        }
      ]
    },
    {
      "cell_type": "markdown",
      "metadata": {
        "id": "f25Vrl_yDOu1"
      },
      "source": [
        "### Ćwiczenie 13\n",
        "Zbuduj dwuwymiarową tablicę *numpy* o kształcie 6x6 - macierz jednostkowa o typie danych *int*. Wydrukuj wynik do konsoli.\n",
        "\n",
        "**Wskazówka:** Użyj funkcji *np.eye()*.\n",
        "\n",
        "**Oczekiwany wynik:**\n",
        "```\n",
        "[[1 0 0 0 0 0]\n",
        " [0 1 0 0 0 0]\n",
        " [0 0 1 0 0 0]\n",
        " [0 0 0 1 0 0]\n",
        " [0 0 0 0 1 0]\n",
        " [0 0 0 0 0 1]]\n",
        " ```"
      ]
    },
    {
      "cell_type": "code",
      "metadata": {
        "id": "KAtvDaBZDPQV",
        "colab": {
          "base_uri": "https://localhost:8080/"
        },
        "outputId": "b7c48ec1-921b-4419-d7f9-4c495d762674"
      },
      "source": [
        "np.eye(6)"
      ],
      "execution_count": 6,
      "outputs": [
        {
          "output_type": "execute_result",
          "data": {
            "text/plain": [
              "array([[1., 0., 0., 0., 0., 0.],\n",
              "       [0., 1., 0., 0., 0., 0.],\n",
              "       [0., 0., 1., 0., 0., 0.],\n",
              "       [0., 0., 0., 1., 0., 0.],\n",
              "       [0., 0., 0., 0., 1., 0.],\n",
              "       [0., 0., 0., 0., 0., 1.]])"
            ]
          },
          "metadata": {
            "tags": []
          },
          "execution_count": 6
        }
      ]
    },
    {
      "cell_type": "markdown",
      "metadata": {
        "id": "Vp5MV1sZDPkF"
      },
      "source": [
        "### Ćwiczenie 14\n",
        "Ustaw ziarno losowe na 10. Następnie zbuduj jednowymiarową tablicę *numpy* składającą się z 30 pseudolosowo wygenerowanych wartości z rozkładu jednostajnego na przedziale [0,1). Wydrukuj wynik do konsoli.\n",
        "\n",
        "**Wskazówka:** Użyj funkcji *np.random.rand()*.\n",
        "\n",
        "**Oczekiwany wynik:**\n",
        "```\n",
        "[0.77132064 0.02075195 0.63364823 0.74880388 0.49850701 0.22479665\n",
        " 0.19806286 0.76053071 0.16911084 0.08833981 0.68535982 0.95339335\n",
        " 0.00394827 0.51219226 0.81262096 0.61252607 0.72175532 0.29187607\n",
        " 0.91777412 0.71457578 0.54254437 0.14217005 0.37334076 0.67413362\n",
        " 0.44183317 0.43401399 0.61776698 0.51313824 0.65039718 0.60103895]\n",
        " ```"
      ]
    },
    {
      "cell_type": "code",
      "metadata": {
        "id": "LauuvL0CDPvk",
        "colab": {
          "base_uri": "https://localhost:8080/"
        },
        "outputId": "c88d6c9c-d71c-4c35-cbae-d8982068852b"
      },
      "source": [
        "np.random.seed(10)\n",
        "A=np.random.rand(30)\n",
        "print(A)"
      ],
      "execution_count": 8,
      "outputs": [
        {
          "output_type": "stream",
          "text": [
            "[0.77132064 0.02075195 0.63364823 0.74880388 0.49850701 0.22479665\n",
            " 0.19806286 0.76053071 0.16911084 0.08833981 0.68535982 0.95339335\n",
            " 0.00394827 0.51219226 0.81262096 0.61252607 0.72175532 0.29187607\n",
            " 0.91777412 0.71457578 0.54254437 0.14217005 0.37334076 0.67413362\n",
            " 0.44183317 0.43401399 0.61776698 0.51313824 0.65039718 0.60103895]\n"
          ],
          "name": "stdout"
        }
      ]
    },
    {
      "cell_type": "markdown",
      "metadata": {
        "id": "dzyB-x7mDQCO"
      },
      "source": [
        "### Ćwiczenie 15\n",
        "Ustaw ziarno losowe na 20. Następnie zbuduj dwuwymiarową tablicę *numpy* o kształcie (10, 4) z wygenerowanymi pseudolosowo wartościami ze standardowego rozkładu normalnego N(0,1).\n",
        "\n",
        "**Wskazówka:** Użyj funkcji *np.random.randn()*.\n",
        "\n",
        "**Oczekiwany wynik:**\n",
        "```\n",
        "[[ 0.88389311  0.19586502  0.35753652 -2.34326191]\n",
        " [-1.08483259  0.55969629  0.93946935 -0.97848104]\n",
        " [ 0.50309684  0.40641447  0.32346101 -0.49341088]\n",
        " [-0.79201679 -0.84236793 -1.27950266  0.24571517]\n",
        " [-0.0441948   1.56763255  1.05110868  0.40636843]\n",
        " [-0.1686461  -3.18970279  1.12013226  1.33277821]\n",
        " [-0.24333877 -0.13003071 -0.10901737  1.55618644]\n",
        " [ 0.12877835 -2.06694872 -0.88549315 -1.10457948]\n",
        " [ 0.93286635  2.059838   -0.93493796 -1.61299022]\n",
        " [ 0.52706972 -1.55110074  0.32961334 -1.13652654]]\n",
        " ```"
      ]
    },
    {
      "cell_type": "code",
      "metadata": {
        "id": "6XRh_V5gDQN3",
        "colab": {
          "base_uri": "https://localhost:8080/"
        },
        "outputId": "a3d9b359-3932-4c6c-d341-88eb484dac8e"
      },
      "source": [
        "np.random.seed(20)\n",
        "A=np.random.normal(0,1,40)\n",
        "A=A.reshape((10,4))\n",
        "print(A)"
      ],
      "execution_count": 15,
      "outputs": [
        {
          "output_type": "stream",
          "text": [
            "[[ 0.88389311  0.19586502  0.35753652 -2.34326191]\n",
            " [-1.08483259  0.55969629  0.93946935 -0.97848104]\n",
            " [ 0.50309684  0.40641447  0.32346101 -0.49341088]\n",
            " [-0.79201679 -0.84236793 -1.27950266  0.24571517]\n",
            " [-0.0441948   1.56763255  1.05110868  0.40636843]\n",
            " [-0.1686461  -3.18970279  1.12013226  1.33277821]\n",
            " [-0.24333877 -0.13003071 -0.10901737  1.55618644]\n",
            " [ 0.12877835 -2.06694872 -0.88549315 -1.10457948]\n",
            " [ 0.93286635  2.059838   -0.93493796 -1.61299022]\n",
            " [ 0.52706972 -1.55110074  0.32961334 -1.13652654]]\n"
          ],
          "name": "stdout"
        }
      ]
    },
    {
      "cell_type": "markdown",
      "metadata": {
        "id": "5aDne8SrDQgx"
      },
      "source": [
        "### Ćwiczenie 16\n",
        "Ustaw ziarno losowe na 30. Następnie zbuduj dwuwymiarową tablicę *numpy* o kształcie (10, 4) z wygenerowanymi pseudolosowo wartościami z rozkładu normalnego N(100, 5).\n",
        "\n",
        "**Wskazówka:** Użyj funkcji *np.random.randn()*.\n",
        "\n",
        "**Oczekiwany wynik:**\n",
        "```\n",
        "[[ 97.17349231 103.41650023  97.82942436 101.05220329]\n",
        " [ 99.7748353  100.67930221  96.14063068 103.544381  ]\n",
        " [100.30029631  97.52499594 103.52901961 100.24037271]\n",
        " [ 98.29153712  98.2666258  103.09437633 101.70027274]\n",
        " [ 99.36127721 101.20382627  95.34026547 102.09694365]\n",
        " [ 99.98708001  98.95468525  99.05410904 102.38025432]\n",
        " [ 93.50787269 103.61547679 103.18753701  98.51356237]\n",
        " [102.20256689  96.19764407  97.54000366  97.05813038]\n",
        " [101.81233513  97.66380453  98.45883627  98.09317768]\n",
        " [102.48979932  95.70413391  98.43161651 101.89861815]]\n",
        " ```"
      ]
    },
    {
      "cell_type": "code",
      "metadata": {
        "id": "hLX5x9-4DQuM",
        "colab": {
          "base_uri": "https://localhost:8080/"
        },
        "outputId": "8d533199-b9c8-4fbb-f121-38a077f474cb"
      },
      "source": [
        "np.random.seed(30)\n",
        "A=np.ndarray((10,4))\n",
        "a=np.shape(A)\n",
        "#print(a)\n",
        "B=np.random.normal(100,5,a[0]*a[1])\n",
        "B=B.reshape((a[0],a[1]))\n",
        "print(B)\n",
        "\n",
        "#print(A)"
      ],
      "execution_count": 38,
      "outputs": [
        {
          "output_type": "stream",
          "text": [
            "[[ 93.67973668 107.63952676  95.14644531 102.35279808]\n",
            " [ 99.49651642 101.51896592  91.37018786 107.92547685]\n",
            " [100.67148297  94.46572267 107.89112775 100.53748971]\n",
            " [ 96.17976087  96.12405745 106.91923583 103.80192542]\n",
            " [ 98.57177243 102.69183738  89.58051684 104.68890855]\n",
            " [ 99.97111002  97.66260516  97.8849235  105.32241047]\n",
            " [ 85.48316202 108.08445187 107.12754943  96.67622441]\n",
            " [104.9250893   91.49767367  94.49928096  93.42177955]\n",
            " [104.05250455  94.77610813  96.55385313  95.73621568]\n",
            " [105.56736054  90.39415141  96.49298791 104.24543925]]\n"
          ],
          "name": "stdout"
        }
      ]
    },
    {
      "cell_type": "markdown",
      "metadata": {
        "id": "HWcIdRckDRAD"
      },
      "source": [
        "### Ćwiczenie 17\n",
        "Dokonaj iteracji po tablicy *numpy* A i wydrukuj każdy element tablicy do konsoli.\n",
        "```\n",
        "A = np.array([[1, 4, 3],\n",
        "              [5, 2, 6]])\n",
        "```\n",
        "**Wskazówka:** Użyj funkcji *np.nditer()*.\n",
        "\n",
        "**Oczekiwany wynik:**\n",
        "```\n",
        "1\n",
        "4\n",
        "3\n",
        "5\n",
        "2\n",
        "6\n",
        "```"
      ]
    },
    {
      "cell_type": "code",
      "metadata": {
        "id": "c7z0dNClDRL0",
        "colab": {
          "base_uri": "https://localhost:8080/"
        },
        "outputId": "831484ab-d247-4ab9-83d1-143856b8ab97"
      },
      "source": [
        "A = np.array([[1, 4, 3],\n",
        "              [5, 2, 6]])\n",
        "\n",
        "for i in np.nditer(A):\n",
        "  print(i)"
      ],
      "execution_count": 68,
      "outputs": [
        {
          "output_type": "stream",
          "text": [
            "1\n",
            "4\n",
            "3\n",
            "5\n",
            "2\n",
            "6\n"
          ],
          "name": "stdout"
        }
      ]
    },
    {
      "cell_type": "markdown",
      "metadata": {
        "id": "JPxtcgJKDRoz"
      },
      "source": [
        "### Ćwiczenie 18\n",
        "Utwórz jednowymiarową tablicę *numpy* (wektor) składającą się z 11 równo rozmieszczonych punktów z przedziału [0,1]. Wynik wydrukuj do konsoli.\n",
        "\n",
        "**Wskazówka:** Użyj funkcji *np.linspace()*.\n",
        "\n",
        "**Oczekiwany wynik:**\n",
        "```\n",
        "[0.  0.1 0.2 0.3 0.4 0.5 0.6 0.7 0.8 0.9 1. ]\n",
        "```"
      ]
    },
    {
      "cell_type": "code",
      "metadata": {
        "id": "r96IH0deDR05",
        "colab": {
          "base_uri": "https://localhost:8080/"
        },
        "outputId": "0ecb5c23-0f5a-4f04-e60e-6b1faae1d340"
      },
      "source": [
        "#rowno rozmieszczone 11 puntkow\n",
        "np.linspace(0,1,11)\n"
      ],
      "execution_count": 41,
      "outputs": [
        {
          "output_type": "execute_result",
          "data": {
            "text/plain": [
              "array([0. , 0.1, 0.2, 0.3, 0.4, 0.5, 0.6, 0.7, 0.8, 0.9, 1. ])"
            ]
          },
          "metadata": {
            "tags": []
          },
          "execution_count": 41
        }
      ]
    },
    {
      "cell_type": "markdown",
      "metadata": {
        "id": "KpRpHMQvDSJJ"
      },
      "source": [
        "### Ćwiczenie 19\n",
        "Ustaw ziarno losowe na 42. Wygeneruj jednowymiarową tablicę (wektor) zawierającą możliwy wynik gry w Duży Lotek. Wynik wydrukuj do konsoli.\n",
        "\n",
        "**Wskazówka:** Wynikiem gry jest 6-elementowy wektor wartości od 1 do 49 włącznie wartości wylosowanych bez powtórzeń.\n",
        "\n",
        "**Oczekiwany wynik:**\n",
        "```\n",
        "[39 29 15 43  8 21]\n",
        "```"
      ]
    },
    {
      "cell_type": "code",
      "metadata": {
        "id": "MhE9dK9FDSWQ",
        "colab": {
          "base_uri": "https://localhost:8080/"
        },
        "outputId": "ebdf1493-a23c-4214-abf3-8314192851e1"
      },
      "source": [
        "np.random.seed(42)\n",
        "a=np.random.randint(low=1, high=50, size=6)\n",
        "print(a)"
      ],
      "execution_count": 53,
      "outputs": [
        {
          "output_type": "stream",
          "text": [
            "[39 29 15 43  8 21]\n"
          ],
          "name": "stdout"
        }
      ]
    },
    {
      "cell_type": "markdown",
      "metadata": {
        "id": "cOhvdIXdDS7D"
      },
      "source": [
        "### Ćwiczenie 20\n",
        "Zbuduj dwuwymiarową tablicę o kształcie 6x6 poniżej:\n",
        "```\n",
        "[[0 0 0 0 0 0]\n",
        " [0 1 0 0 0 0]\n",
        " [0 0 2 0 0 0]\n",
        " [0 0 0 3 0 0]\n",
        " [0 0 0 0 4 0]\n",
        " [0 0 0 0 0 5]]\n",
        "```\n",
        "**Wskazówka:** Użyj funkcji *np.diag()*."
      ]
    },
    {
      "cell_type": "code",
      "metadata": {
        "id": "761SewLXDTXa",
        "colab": {
          "base_uri": "https://localhost:8080/"
        },
        "outputId": "8ebc9621-d699-4575-92fd-28f8dd80251e"
      },
      "source": [
        "a=np.arange(6)\n",
        "b=np.diag(a)\n",
        "print(b)"
      ],
      "execution_count": 52,
      "outputs": [
        {
          "output_type": "stream",
          "text": [
            "[[0 0 0 0 0 0]\n",
            " [0 1 0 0 0 0]\n",
            " [0 0 2 0 0 0]\n",
            " [0 0 0 3 0 0]\n",
            " [0 0 0 0 4 0]\n",
            " [0 0 0 0 0 5]]\n"
          ],
          "name": "stdout"
        }
      ]
    },
    {
      "cell_type": "code",
      "metadata": {
        "id": "xTG6PsOR5Rd4"
      },
      "source": [
        ""
      ],
      "execution_count": null,
      "outputs": []
    }
  ]
}
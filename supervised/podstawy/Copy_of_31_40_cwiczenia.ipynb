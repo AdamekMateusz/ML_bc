{
  "nbformat": 4,
  "nbformat_minor": 0,
  "metadata": {
    "colab": {
      "name": "Copy of 31-40_cwiczenia.ipynb",
      "provenance": [],
      "collapsed_sections": [],
      "include_colab_link": true
    },
    "kernelspec": {
      "name": "python3",
      "display_name": "Python 3"
    }
  },
  "cells": [
    {
      "cell_type": "markdown",
      "metadata": {
        "id": "view-in-github",
        "colab_type": "text"
      },
      "source": [
        "<a href=\"https://colab.research.google.com/github/AdamekMateusz/ML_bc/blob/main/supervised/podstawy/Copy_of_31_40_cwiczenia.ipynb\" target=\"_parent\"><img src=\"https://colab.research.google.com/assets/colab-badge.svg\" alt=\"Open In Colab\"/></a>"
      ]
    },
    {
      "cell_type": "markdown",
      "metadata": {
        "id": "MofBGD6Th0aH"
      },
      "source": [
        "## 31-40 Ćwiczenia"
      ]
    },
    {
      "cell_type": "markdown",
      "metadata": {
        "id": "m8HA72GMh3AR"
      },
      "source": [
        "### Ćwiczenie 31\n",
        "Posortuj tablicę A poniżej:\n",
        "\n",
        "* według wiersza (rosnąco)\n",
        "* według kolumny (rosnąco)\n",
        "```\n",
        "A = np.array([[4.99, 3.49, 9.99],\n",
        "              [1.99, 9.99, 4.99],\n",
        "              [14.99, 2.39, 7.29]])\n",
        "```\n",
        "\n",
        "Wydrukuj wynik do konsoli.\n",
        "\n",
        "**Wskazówka:** Użyj funkcji *np.sort()*.\n",
        "\n",
        "**Oczekiwany wynik:**\n",
        "```\n",
        "[[ 3.49  4.99  9.99]\n",
        " [ 1.99  4.99  9.99]\n",
        " [ 2.39  7.29 14.99]]\n",
        "[[ 1.99  2.39  4.99]\n",
        " [ 4.99  3.49  7.29]\n",
        " [14.99  9.99  9.99]]\n",
        "```"
      ]
    },
    {
      "cell_type": "code",
      "metadata": {
        "id": "vc2L9IjXhycp",
        "colab": {
          "base_uri": "https://localhost:8080/"
        },
        "outputId": "f7c770f0-4cb6-4102-9462-5e2c165a327e"
      },
      "source": [
        "import numpy as np\n",
        "\n",
        "\n",
        "A = np.array([[4.99, 3.49, 9.99],\n",
        "              [1.99, 9.99, 4.99],\n",
        "              [14.99, 2.39, 7.29]])\n",
        "np.sort(A,axis=1) #wedlug wiersza\n",
        "np.sort(A,axis=0) #wedlug kolumny"
      ],
      "execution_count": null,
      "outputs": [
        {
          "output_type": "execute_result",
          "data": {
            "text/plain": [
              "array([[ 1.99,  2.39,  4.99],\n",
              "       [ 4.99,  3.49,  7.29],\n",
              "       [14.99,  9.99,  9.99]])"
            ]
          },
          "metadata": {
            "tags": []
          },
          "execution_count": 2
        }
      ]
    },
    {
      "cell_type": "markdown",
      "metadata": {
        "id": "nJI7zGzeh5DO"
      },
      "source": [
        "### Ćwiczenie 32\n",
        "Wyodrębnij wszystkie elementy tablicy A o wartości większej niż 8. Wydrukuj wynik do konsoli.\n",
        "```\n",
        "A = np.array([[4.99, 3.49, 9.99],\n",
        "              [1.99, 9.99, 4.99],\n",
        "              [14.99, 2.39, 7.29]])\n",
        "```\n",
        "**Oczekiwany wynik:**\n",
        "```\n",
        "[ 9.99  9.99 14.99]\n",
        "```"
      ]
    },
    {
      "cell_type": "code",
      "metadata": {
        "id": "AVp1gXaXh5QO",
        "colab": {
          "base_uri": "https://localhost:8080/"
        },
        "outputId": "8d3ab232-a345-45c3-c03f-75d9323754d3"
      },
      "source": [
        "import numpy as np\n",
        "\n",
        "\n",
        "A = np.array([[4.99, 3.49, 9.99],\n",
        "              [1.99, 9.99, 4.99],\n",
        "              [14.99, 2.39, 7.29]])\n",
        "A[A>8] #wuswietlam wartosci wieksze od 8"
      ],
      "execution_count": null,
      "outputs": [
        {
          "output_type": "execute_result",
          "data": {
            "text/plain": [
              "array([ 9.99,  9.99, 14.99])"
            ]
          },
          "metadata": {
            "tags": []
          },
          "execution_count": 4
        }
      ]
    },
    {
      "cell_type": "markdown",
      "metadata": {
        "id": "PWfzPa2Qh5jU"
      },
      "source": [
        "### Ćwiczenie 33\n",
        "Podana jest następująca tablica A. Zastąp elementy większe niż 10 wartością stałą 10.\n",
        "```\n",
        "A = np.array([[4.99, 3.49, 9.99],\n",
        "              [1.99, 9.99, 14.99],\n",
        "              [14.99, 2.39, 7.29]])\n",
        "```\n",
        "Wydrukuj wynik do konsoli.\n",
        "\n",
        "**Wskazówka:** Użyj funkcji *np.where()*.\n",
        "\n",
        "**Oczekiwany wynik:**\n",
        "```\n",
        "[[ 4.99  3.49  9.99]\n",
        " [ 1.99  9.99 10.  ]\n",
        " [10.    2.39  7.29]]\n",
        "```"
      ]
    },
    {
      "cell_type": "code",
      "metadata": {
        "id": "LuYY6cjNh5vc",
        "colab": {
          "base_uri": "https://localhost:8080/"
        },
        "outputId": "0921684d-1609-4a50-c6b8-09bf53d73011"
      },
      "source": [
        "import numpy as np\n",
        "\n",
        "\n",
        "A = np.array([[4.99, 3.49, 9.99],\n",
        "              [1.99, 9.99, 14.99],\n",
        "              [14.99, 2.39, 7.29]])\n",
        "np.where(A>10,10,A) #jesli wartosc wieksza od 10 zastepuje 10 jesli nie to pozostawia taka jaka byla"
      ],
      "execution_count": null,
      "outputs": [
        {
          "output_type": "execute_result",
          "data": {
            "text/plain": [
              "array([[ 4.99,  3.49,  9.99],\n",
              "       [ 1.99,  9.99, 10.  ],\n",
              "       [10.  ,  2.39,  7.29]])"
            ]
          },
          "metadata": {
            "tags": []
          },
          "execution_count": 9
        }
      ]
    },
    {
      "cell_type": "markdown",
      "metadata": {
        "id": "rzbnWGohh6DA"
      },
      "source": [
        "### Ćwiczenie 34\n",
        "Przedstaw poniższą dwuwymiarową tablicę A jako 'spłaszczoną' jednowymiarową tablicę. Wydrukuj wynik do konsoli.\n",
        "```\n",
        "A = np.array([[4.99, 3.49, 9.99],\n",
        "              [1.99, 9.99, 14.99],\n",
        "              [14.99, 2.39, 7.29]])\n",
        "```\n",
        "**Wskazówka:** Użyj funkcji *np.ravel()*.\n",
        "\n",
        "**Oczekiwany wynik:**\n",
        "```\n",
        "[ 4.99  3.49  9.99  1.99  9.99 14.99 14.99  2.39  7.29]\n",
        "```"
      ]
    },
    {
      "cell_type": "code",
      "metadata": {
        "id": "SMp1bQiPh6PT",
        "colab": {
          "base_uri": "https://localhost:8080/"
        },
        "outputId": "26773db9-96d8-4f6a-e9b1-ccc499f2640f"
      },
      "source": [
        "import numpy as np\n",
        "\n",
        "\n",
        "A = np.array([[4.99, 3.49, 9.99],\n",
        "              [1.99, 9.99, 14.99],\n",
        "              [14.99, 2.39, 7.29]])\n",
        "print(A.reshape((-1)))\n",
        "print(A.ravel())"
      ],
      "execution_count": null,
      "outputs": [
        {
          "output_type": "stream",
          "text": [
            "[ 4.99  3.49  9.99  1.99  9.99 14.99 14.99  2.39  7.29]\n",
            "[ 4.99  3.49  9.99  1.99  9.99 14.99 14.99  2.39  7.29]\n"
          ],
          "name": "stdout"
        }
      ]
    },
    {
      "cell_type": "markdown",
      "metadata": {
        "id": "GW4rsvxWh6k9"
      },
      "source": [
        "### Ćwiczenie 35\n",
        "Zbuduj tablicę o tym samym kształcie i typie danych co tablica A i wypełnij ją stałą wartością 0.0. Wydrukuj wynik do konsoli.\n",
        "```\n",
        "A = np.array([[4.99, 3.49, 9.99],\n",
        "              [1.99, 9.99, 14.99],\n",
        "              [14.99, 2.39, 7.29]])\n",
        "```\n",
        "**Wskazówka:** Użyj funkcji *np.zeros_like()*.\n",
        "\n",
        "**Oczekiwany wynik:**\n",
        "```\n",
        "[[0. 0. 0.]\n",
        " [0. 0. 0.]\n",
        " [0. 0. 0.]]\n",
        " ```"
      ]
    },
    {
      "cell_type": "code",
      "metadata": {
        "id": "wJVRibykh6xF",
        "colab": {
          "base_uri": "https://localhost:8080/"
        },
        "outputId": "cdba9f87-d6d2-4f68-cc9d-a314d19ce749"
      },
      "source": [
        "import numpy as np\n",
        "\n",
        "\n",
        "A = np.array([[4.99, 3.49, 9.99],\n",
        "              [1.99, 9.99, 14.99],\n",
        "              [14.99, 2.39, 7.29]])\n",
        "B=np.full((np.shape(A)),0,dtype=np.float)\n",
        "print(B)\n",
        "\n",
        "C=np.zeros_like(A)\n",
        "print(C)"
      ],
      "execution_count": null,
      "outputs": [
        {
          "output_type": "stream",
          "text": [
            "[[0. 0. 0.]\n",
            " [0. 0. 0.]\n",
            " [0. 0. 0.]]\n",
            "[[0. 0. 0.]\n",
            " [0. 0. 0.]\n",
            " [0. 0. 0.]]\n"
          ],
          "name": "stdout"
        }
      ]
    },
    {
      "cell_type": "markdown",
      "metadata": {
        "id": "yqs2LHCHh7L_"
      },
      "source": [
        "### Ćwiczenie 36\n",
        "Zbuduj tablicę o tym samym kształcie i typie danych co tablica A i wypełnij ją stałą wartością 9.99. Wydrukuj wynik do konsoli.\n",
        "```\n",
        "A = np.array([[4.99, 3.49, 9.99],\n",
        "              [1.99, 9.99, 14.99],\n",
        "              [14.99, 2.39, 7.29]])\n",
        "```\n",
        "**Wskazówka:** Użyj funkcji *np.full_like()*.\n",
        "\n",
        "**Oczekiwany wynik:**\n",
        "```\n",
        "[[9.99 9.99 9.99]\n",
        " [9.99 9.99 9.99]\n",
        " [9.99 9.99 9.99]]\n",
        " ```"
      ]
    },
    {
      "cell_type": "code",
      "metadata": {
        "id": "YgFct2fsh7YZ",
        "colab": {
          "base_uri": "https://localhost:8080/"
        },
        "outputId": "244e21c2-a604-40e8-ddd7-a9148c416608"
      },
      "source": [
        "import numpy as np\n",
        "\n",
        "\n",
        "A = np.array([[4.99, 3.49, 9.99],\n",
        "              [1.99, 9.99, 14.99],\n",
        "              [14.99, 2.39, 7.29]])\n",
        "np.full_like(A,9.99)"
      ],
      "execution_count": 1,
      "outputs": [
        {
          "output_type": "execute_result",
          "data": {
            "text/plain": [
              "array([[9.99, 9.99, 9.99],\n",
              "       [9.99, 9.99, 9.99],\n",
              "       [9.99, 9.99, 9.99]])"
            ]
          },
          "metadata": {
            "tags": []
          },
          "execution_count": 1
        }
      ]
    },
    {
      "cell_type": "markdown",
      "metadata": {
        "id": "nczkOQIFh7wL"
      },
      "source": [
        "### Ćwiczenie 37\n",
        "Zbuduj dwuwymiarową tablicę (macierz dolna trójkątna) poniżej:\n",
        "```\n",
        "array([[1., 0., 0., 0., 0.],\n",
        "       [1., 1., 0., 0., 0.],\n",
        "       [1., 1., 1., 0., 0.],\n",
        "       [1., 1., 1., 1., 0.],\n",
        "       [1., 1., 1., 1., 1.]])\n",
        "```\n",
        "Wydrukuj wynik do konsoli.\n",
        "\n",
        "**Wskazówka:** Użyj funkcji *np.tri()*.\n",
        "\n",
        "**Oczekiwany wynik:**\n",
        "```\n",
        "[[1. 0. 0. 0. 0.]\n",
        " [1. 1. 0. 0. 0.]\n",
        " [1. 1. 1. 0. 0.]\n",
        " [1. 1. 1. 1. 0.]\n",
        " [1. 1. 1. 1. 1.]]\n",
        "```"
      ]
    },
    {
      "cell_type": "code",
      "metadata": {
        "id": "XqOiprm_h78L",
        "colab": {
          "base_uri": "https://localhost:8080/"
        },
        "outputId": "c4c9b3fd-0b72-4344-b72a-c2a9291e6193"
      },
      "source": [
        "np.tri(5)"
      ],
      "execution_count": 2,
      "outputs": [
        {
          "output_type": "execute_result",
          "data": {
            "text/plain": [
              "array([[1., 0., 0., 0., 0.],\n",
              "       [1., 1., 0., 0., 0.],\n",
              "       [1., 1., 1., 0., 0.],\n",
              "       [1., 1., 1., 1., 0.],\n",
              "       [1., 1., 1., 1., 1.]])"
            ]
          },
          "metadata": {
            "tags": []
          },
          "execution_count": 2
        }
      ]
    },
    {
      "cell_type": "markdown",
      "metadata": {
        "id": "1e2Y1M9ph8Q2"
      },
      "source": [
        "### Ćwiczenie 38\n",
        "Utwórz dowolną trójwymiarową tablicę o kształcie (2, 3, 4) i przypisz do zmiennej A. Wystarczy tylko zdefiniować tablicę A.\n",
        "\n",
        "**Przykład:**\n",
        "```\n",
        "[[[4 5 4 2]\n",
        "  [6 3 5 1]\n",
        "  [5 2 1 2]]\n",
        "\n",
        " [[7 2 3 1]\n",
        "  [6 2 0 9]\n",
        "  [0 1 9 1]]]\n",
        "```"
      ]
    },
    {
      "cell_type": "code",
      "metadata": {
        "id": "zCe0HaV5h8dt",
        "colab": {
          "base_uri": "https://localhost:8080/"
        },
        "outputId": "d5547df9-8193-4ef2-925a-685de5a27296"
      },
      "source": [
        "import numpy as np\n",
        "\n",
        "\n",
        "A = np.full((2,3,4),[1,2,3,4])\n",
        "print(A)"
      ],
      "execution_count": 4,
      "outputs": [
        {
          "output_type": "stream",
          "text": [
            "[[[1 2 3 4]\n",
            "  [1 2 3 4]\n",
            "  [1 2 3 4]]\n",
            "\n",
            " [[1 2 3 4]\n",
            "  [1 2 3 4]\n",
            "  [1 2 3 4]]]\n"
          ],
          "name": "stdout"
        }
      ]
    },
    {
      "cell_type": "markdown",
      "metadata": {
        "id": "wtgqAfyjh8yL"
      },
      "source": [
        "### Ćwiczenie 39\n",
        "Wygeneruj dwuwymiarową tablicę o kształcie (200, 300) wypełnioną losowymi wartościami od 0 do 255 (włącznie) o typie danych *np.uint8* i przypisz do zmiennej *image*."
      ]
    },
    {
      "cell_type": "code",
      "metadata": {
        "id": "ZO-igCrih9JS"
      },
      "source": [
        "image=np.random.randint(low=0,high=255,size=60000,dtype=np.uint8).reshape((200,300))"
      ],
      "execution_count": 6,
      "outputs": []
    },
    {
      "cell_type": "markdown",
      "metadata": {
        "id": "QP1F2Bwoh9hZ"
      },
      "source": [
        "### Ćwiczenie 40\n",
        "Tablica *image* jest podana poniżej:\n",
        "```\n",
        "image = np.random.randint(low=0, high=256, size=(200, 300), dtype=np.uint8)\n",
        "```\n",
        "Posortuj tablicę *image* wzdłuż wiersza rosnąco i przypisz do zmiennej *image_sorted*."
      ]
    },
    {
      "cell_type": "code",
      "metadata": {
        "id": "WXa9m1dvh97q",
        "colab": {
          "base_uri": "https://localhost:8080/"
        },
        "outputId": "6d30e7d3-1a8e-4368-a64e-1b16fe4fb6de"
      },
      "source": [
        "import numpy as np\n",
        "\n",
        "\n",
        "image = np.random.randint(low=0, high=256, size=(200, 300), dtype=np.uint8)\n",
        "imaged_sorted=np.sort(image)\n",
        "print(imaged_sorted)"
      ],
      "execution_count": 12,
      "outputs": [
        {
          "output_type": "stream",
          "text": [
            "[[  0   1   2 ... 254 255 255]\n",
            " [  1   2   3 ... 252 253 254]\n",
            " [  0   0   1 ... 253 253 254]\n",
            " ...\n",
            " [  0   1   1 ... 252 254 255]\n",
            " [  0   0   0 ... 252 253 253]\n",
            " [  0   0   0 ... 251 252 254]]\n"
          ],
          "name": "stdout"
        }
      ]
    },
    {
      "cell_type": "code",
      "metadata": {
        "id": "GYXBVcqaeaM3"
      },
      "source": [
        ""
      ],
      "execution_count": null,
      "outputs": []
    }
  ]
}